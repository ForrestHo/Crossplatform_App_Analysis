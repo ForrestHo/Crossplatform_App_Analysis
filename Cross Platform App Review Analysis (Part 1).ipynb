{
 "cells": [
  {
   "cell_type": "markdown",
   "metadata": {},
   "source": [
    "# Crossplatform Restaurant App Review Analysis \n"
   ]
  },
  {
   "cell_type": "markdown",
   "metadata": {},
   "source": [
    "## Purpose\n",
    "\n",
    "Cross-platform compatibility can be a challenge for mobile applications. The services provided by the iPhone and the various Android phones may be very different. This makes it interesting to examine whether there are differences in sentiment between the top restaurant apps across iOS and Android platforms. In this project, we will adopt the method of scraping app reviews from both the app store which represent iOS and google play store which represent Android to perform rating and sentiment analysis to address the following questions:\n",
    "1. What are the overall ratings for those apps on these two platforms?\n",
    "2. Which apps have the largest rating gap across these two platforms?\n",
    "3. What are the sentiment keywords for both high and low ratings?\n",
    "\n",
    "Through analyzing reviews of the same restaurant app on different mobile phone systems, we can identify which restaurants have a big difference in ratings between the two platforms; then providing suggestions to help the restaurants understand 1) the reasons for the gap between rating scores on different platforms; 2) the factors (e.g customer service, waiting time, food quality, platform issue, etc) drag down the restaurant score which causes the gap between platforms, which should be improved; 3) whether they should continue to use the lower scored platform or not."
   ]
  },
  {
   "cell_type": "markdown",
   "metadata": {},
   "source": [
    "## Methodology\n",
    "\n",
    "\n",
    "To do this review sentiment analysis we obtained two datasets by using two scraping packages. One dataset is iOS dataset. It is scraped from Apple App Store by using the package app_store_scraper (https://pypi.org/project/app-store-scraper/).  The second dataset is Android dataset. It is scraped from Google Play by using the package google_play_scraper (https://pypi.org/project/google-play-scraper/). These datasets both share title, review, rating, and date, attributes that can be extracted from the both datasets. Moreover, the both datasets are coded by review, company, and platform, so that we are able to analyze the review sentiment cross platfrom down to the company scope, not only focus on the analysis at the industrial, Food & Drinks, level. Therefore, we are able to do overall ratings comparison and review sentiment analysis between the two plantforms. We are also able to dig deeper, coming up with more insights at company level.\n",
    "\n",
    "**Assumptions and Limitations**\n",
    "\n",
    "In the Food & Drinks category, We exclude the companies, such as Uber Eats, Doordash, etc., who provide different services than the companies we pick. We are focusing on top 10 hottest apps, assuming they represent the whole category. The 10 apps are Tim Hortons, McDonald's, Starbucks, Subway, A&W, Domino's Canda, Burger King Canada, Wendy's, Dairy Queen, and KFC Canada. We planned to scrape 1000 most recent reviews for each app on each platform. However, Some apps don't have adequate reviews. Here we assume that all reviews have the same weighted of impact to our analysis at the industrial level. And we also assume that the date of each review is irrelevant.\n",
    "\n"
   ]
  },
  {
   "cell_type": "markdown",
   "metadata": {},
   "source": [
    "## iOS App Reviews Dataset (using app-store-scraper 0.3.5)\n",
    "\n",
    "\n",
    "- Title: App-Store-Scraper iOS App Reviews\n",
    "- URI: https://www.apple.com/ca/app-store/, https://pypi.org/project/app-store-scraper/\n",
    "- Keywords: App-Store, Reviews, Ratings\n",
    "- Publication Date: March 26, 2021\n",
    "- Publisher: Apple\n",
    "- Creator: Forrest Ho\n",
    "- Contact Point: jlhforrest@gmail.com\n",
    "- Spatial Coverage: Canada\n",
    "- Temporal Coverage: August 2012 - March 2021\n",
    "- Language: English\n",
    "- Date & Time Formats: \"2019-03-22 13:27:54\"\n",
    "- Data Version: 1.0\n",
    "- Access Date: March 26, 2021\n",
    "<br>\n",
    "\n",
    "\n",
    "## Android App Reviews Dataset (using google-play-scraper 0.2)\n",
    "- Title: Google-Play-Scraper Android App Reviews\n",
    "- URI: https://play.google.com/store/apps?hl=en_CA&gl=US, https://pypi.org/project/google-play-scraper/\n",
    "- Keywords: Google Play, Reviews, Stars\n",
    "- Publication Date: March 26, 2021\n",
    "- Publisher: Google (Google Play)\n",
    "- Creator: Xinran Yuan\n",
    "- Contact Point: yuan25@iu.edu\n",
    "- Spatial Coverage: Canada\n",
    "- Temporal Coverage: October 2014 - March 2021\n",
    "- Language: English\n",
    "- Date & Time Formats: \"2020/11/20 17:18\"\n",
    "- Data Version: 1.0\n",
    "- Access Date: March 26, 2021"
   ]
  },
  {
   "cell_type": "markdown",
   "metadata": {},
   "source": [
    "## Data Dictionary (iOS Dataset)\n",
    "\n",
    "| Source | Source Name | Variable Name | Variable Type | Meaning | Use | Holds sensitive data | Sample Values |\n",
    "| --- | --- | --- | --- | --- | --- | --- | --- |\n",
    "| Apple Store | isEdited | edited | boolean | whether the text has been edited after posting| For information on review | No | \"False\" |\n",
    "| Apple Store | title | title | text | title of an review | For information on review | No | \"Beware!\", \"works great\" |\n",
    "| Apple Store | developer Response | Reply | text | response from the app developer | For information on review | No | \"Thanks for the feedback. Great idea on adding names for personalized coffee. We're making continuous enhancements to the app, and will add that to our list!\" |\n",
    "| Apple Store | rating | Score | integer | ratings given by user | To aggregate overall rating of each app | No | \"4\",\"1\" |\n",
    "| Apple Store | date | Time | datetime | time of the review | For information on review | No | \"2017-09-16 2:56\" |\n",
    "| Apple Store | userName | username | text | an individual's user name | For information on review | No | \"Aiyun819\",\"squirl1803\" |\n",
    "| Apple Store | review | Review | text | comments user leave | To provide information on sentiment analysis | No | \"They deleted the double double button. It was so much easier! And if you can add names for personalized coffee that will be perfect because you don't know which one is which especially when you are ordering for lots of people! Thanks!\" |\n",
    "| Apple Store | App | Resturant | text | name of the mobile app | To aggregate all app information by name | No | \"Tim Hortons\",\"KFC Canada\" |\n",
    "| Apple Store | Rank | Popularity Ranking | integer | rank of the app within Canadian restaurant apps | To evaluate overall performance of the app | No | \"1\",\"10\" |\n",
    "\n",
    "\n",
    "## Data Dictionary (Android Dataset)\n",
    "\n",
    "| Source | Source Name | Variable Name | Variable Type | Meaning | Use | Holds sensitive data | Sample Values |\n",
    "| --- | --- | --- | --- | --- | --- | --- | --- |\n",
    "| Google Play | reviewId | reviewid | text | identification of each review | To aggregate all the detailed review information by each review | No | \"gp:AOqpTOFSW6te2N4yPMiXyu9sSwZr7vvY34Yuk3jFQrOhYtD731SToH2pq3NY471F3AegYA6jD35hooZhwB38INI\" |\n",
    "| Google Play | userName | username | text | An individual's username | For information on review | No | \"chris wales\" |\n",
    "| Google Play | userImage | userimage | text | link of image associated with the user | For information on review | No | \"https://play-lh.googleusercontent.com/a-/AOh14Ggvh4_v-rubgQt7w6E0x2HBccj-_tJoK9hxjKu_\" |\n",
    "| Google Play | content | Review | text | text of the review | To provide information on sentiment analysis | No | \"Promo codes not working. Just spins and dismisses. No notification of why.\" |\n",
    "| Google Play | score | Score | integer | ratings users provided on a specific app | To aggregate overll score for each app | No | \"1\",\"2\" |\n",
    "| Google Play | thumbsUpCount | thumbsupcount | integer | the number of thumbsup given by users | For information on the app | No | \"0\",\"2\" |\n",
    "| Google Play | reviewCreatedVersion | version | text | version of the platform | For information on the platform| No | \"7.26\" |\n",
    "| Google Play | at | Time | datetime | date the review was created | For information on review | No | \"2019-11-26 14:46:36\" |\n",
    "| Google Play | replyContent | Reply | text | content of the reply on specific review | For information on review | No | \"Thanks for your feedback! You can still place an order with Wi-Fi only but will need to access the Free Wi-Fi when you arrive at the location - order ahead functionality is only available with a data plan.\" |\n",
    "| Google Play | repliedAt | Replytime | datetime | time of the reply | For information on review | No | \"2019-02-15 12:22:52\" |\n",
    "| Google Play | App | Resturant | text | name of the mobile app | To aggregate all app information by name | No | \"A&W\" |\n",
    "| Google Play | rank | Popularity Ranking | integer | rank of the app | To evaluate the overall performance of the restaurant app | No | \"5\",\"4\" |\n",
    "\n",
    "\n",
    "\n",
    "## Data Dictionary (Created Variables)\n",
    "\n",
    "| Source | Source Name | Variable Name | Variable Type | Meaning | Use | Holds sensitive data | Sample Values |\n",
    "| --- | --- | --- | --- | --- | --- | --- | --- |\n",
    "| Review | --- | ReviewID | integer | A review identifier | To aggregate all detailed information for each review | No | \"1\",\"2\" |\n",
    "| Platform | --- | Platform | text | Platform of the app | To aggregate all review information by platform | No | \"iOS\",\"Google play\" |\n",
    "| Platform | --- | PlatformID | binary | Which platform the review comes from (iOS vs Google play) | To aggregate all eview information by platform  | No | \"0\",\"1\" |\n",
    "| Restaurant | --- | RestaurantID | integer | A restaurant app's identifier | To aggregate all review information by Restaurant | No | \"1\",\"2\"  |\n",
    "| Reply | --- | RepliesID | integer | A reply identifier | To aggregate all detailed information for each reply | No | \"1\",\"2\" |\n",
    "| Reply | --- | DevReply | binary | Whether there is reply from the app developer | For information on review | No | \"yes\",\"no\" |"
   ]
  },
  {
   "cell_type": "markdown",
   "metadata": {},
   "source": [
    "## Results\n",
    "\n",
    "Normalization of the database resulted in a set of 4 tables, including tables for reviews, platform, restaurant, and replies. Reviews are the main table that contains the reviews, scores, and time of two datasets including iOS and Android. Using the platformID of the reviews table could associate with the platform table including the specific platform name. The resturantID of reviews table associated with the restaurant table includes the restaurant name and the overall popularity ranking under the food & drink category of each restaurant in Canada. Some users' reviews are replied by the developer which is associated with the devreply of the reviews table. Only the iOS dataset has the developer response and all information contained in one column, so we divide the reply content and time into two separate columns at first, and generate the replies table which contain these two columns and reply id."
   ]
  },
  {
   "cell_type": "markdown",
   "metadata": {},
   "source": [
    "<img src=https://i.ibb.co/Tr7GDzp/ER-Diagram.jpg, width='600'>"
   ]
  },
  {
   "cell_type": "markdown",
   "metadata": {},
   "source": [
    "```\n",
    "\n",
    " CREATE TABLE IF NOT EXISTS as reviews\n",
    "    (\n",
    "        reviewID serial PRIMARY KEY,\n",
    "        review string NOT NULL,\n",
    "        score int NOT NULL,\n",
    "        time datetime NOT NULL,\n",
    "        platformID binary NOT NULL，\n",
    "        resturantID serial NOT NULL,\n",
    "        devreply binary\n",
    "    );\n",
    "\n",
    "\n",
    "     CREATE TABLE IF NOT EXISTS as platform\n",
    "    (\n",
    "        platformID binary REFERENCES reviews(platformID) PRIMARY KEY,\n",
    "        platform string NOT NULL\n",
    "\n",
    "    );\n",
    "    \n",
    "    \n",
    "    CREATE TABLE IF NOT EXISTS as resturant\n",
    "    (\n",
    "        resturantID serial REFERENCES reviews(resturantID) PRIMARY KEY,\n",
    "        resturant string NOT NULL,\n",
    "        popularityranking serial\n",
    "        \n",
    "    );\n",
    "    \n",
    "    \n",
    "    CREATE TABLE IF NOT EXISTS as replies\n",
    "    (\n",
    "        replyID serial REFERENCES reviews(replyID) PRIMARY KEY,\n",
    "        reviewID int NOT NULL,\n",
    "        reply string NOT NULL,\n",
    "        replytime datetime NOT NULL\n",
    ");\n",
    "\n",
    "\n",
    "\n",
    "\"\"\"    \n",
    "\n",
    "\n",
    "```"
   ]
  },
  {
   "cell_type": "markdown",
   "metadata": {},
   "source": [
    "## Keywords\n",
    "\n",
    "keywords = [\"Food & Drink\", \"App Reviews\", \"Sentiment Analysis\", \"Cross Platform\", \"Po\"]"
   ]
  },
  {
   "cell_type": "markdown",
   "metadata": {},
   "source": [
    "## Work in progress\n",
    "\n",
    "Notable TODOs:\n",
    "\n",
    "- Upload the datasets into the Postgresql database\n",
    "- Normalize tables"
   ]
  },
  {
   "cell_type": "markdown",
   "metadata": {},
   "source": [
    "## Suggested Next Steps\n",
    "\n",
    "- prepare the data needed in our analysis\n",
    "- do data cleaning\n",
    "- do the analysis and draw conclusions"
   ]
  },
  {
   "cell_type": "markdown",
   "metadata": {},
   "source": [
    "# Setup\n",
    "\n",
    "## Library import\n",
    "Import all the required Python libraries.\n",
    "\n",
    "The code cell below is an example.\n",
    "When submitting your notebook, make sure that all external libraries are included in the requirements or environment file and library versions are explictly defined.\n",
    "\n",
    "It is a good practice to organize the imported libraries by functionality, as shown below."
   ]
  },
  {
   "cell_type": "code",
   "execution_count": 1,
   "metadata": {},
   "outputs": [],
   "source": [
    "# Data manipulation\n",
    "import pandas as pd\n",
    "\n",
    "# Options for pandas\n",
    "pd.options.display.max_columns = 50\n",
    "pd.options.display.max_rows = 30\n",
    "\n",
    "# Data Scraping\n",
    "from app_store_scraper import AppStore\n",
    "from google_play_scraper import Sort, reviews"
   ]
  },
  {
   "cell_type": "markdown",
   "metadata": {},
   "source": [
    "\n",
    "# Data import"
   ]
  },
  {
   "cell_type": "code",
   "execution_count": 2,
   "metadata": {},
   "outputs": [],
   "source": [
    "# Scraping iOS Dataset\n",
    "\n",
    "names = [\"McDonald's Canad‪a\", 'Starbucks', 'SUBWAY‪®‬', 'A&W', \"Domino's Canda\", 'Burger King Canada', \"Wendy's\", 'Dairy Queen‪®', 'KFC Canada']"
   ]
  },
  {
   "cell_type": "code",
   "execution_count": 3,
   "metadata": {
    "scrolled": true
   },
   "outputs": [
    {
     "name": "stderr",
     "output_type": "stream",
     "text": [
      "2021-03-28 18:04:34,323 [INFO] Base - Searching for app id\n",
      "2021-03-28 18:04:35,149 [INFO] Base - Initialised: AppStore('ca', 'tim-hortons', 1143883086)\n",
      "2021-03-28 18:04:35,150 [INFO] Base - Ready to fetch reviews from: https://apps.apple.com/ca/app/tim-hortons/id1143883086\n",
      "2021-03-28 18:04:40,201 [INFO] Base - [id:1143883086] Fetched 500 reviews (500 fetched in total)\n",
      "2021-03-28 18:04:45,020 [INFO] Base - [id:1143883086] Fetched 1000 reviews (1000 fetched in total)\n"
     ]
    }
   ],
   "source": [
    "app = AppStore(country='ca', app_name='Tim Hortons')\n",
    "app.review(how_many=1000)\n",
    "df=pd.DataFrame(app.reviews)"
   ]
  },
  {
   "cell_type": "code",
   "execution_count": 4,
   "metadata": {},
   "outputs": [],
   "source": [
    "df['App'] = 'Tim Hortons'\n",
    "df['Rank'] = 1"
   ]
  },
  {
   "cell_type": "code",
   "execution_count": null,
   "metadata": {},
   "outputs": [],
   "source": [
    "for index, name in enumerate(names):\n",
    "    app = AppStore(country='ca', app_name=name)\n",
    "    app.review(how_many=1000)\n",
    "    tempdf = pd.DataFrame(app.reviews)\n",
    "    tempdf['App'] = f'{name}'\n",
    "    tempdf['Rank'] = index+2\n",
    "    df = pd.concat([df, tempdf], ignore_index=True)\n",
    "    \n",
    "# Note : I was IP blocked multiple times by Apple during scrapping process.\n",
    "# The entire loop was sucessfuly executed in the end through the use of VPN software\n",
    "# Running this cell without a VPN may result in an incomplete dataset"
   ]
  },
  {
   "cell_type": "code",
   "execution_count": null,
   "metadata": {},
   "outputs": [],
   "source": [
    "df.to_csv('ios.csv', index=False)"
   ]
  },
  {
   "cell_type": "code",
   "execution_count": 5,
   "metadata": {},
   "outputs": [],
   "source": [
    "# Scraping Android dataset\n",
    "result, continuation_token = reviews(\n",
    "    'digital.rbi.timhortons',\n",
    "    lang='en',\n",
    "    country='ca',\n",
    "    sort=Sort.MOST_RELEVANT,\n",
    "    count=1000)\n",
    "\n",
    "result, _ = reviews(\n",
    "    'digital.rbi.timhortons',\n",
    "    continuation_token=continuation_token)\n",
    "\n",
    "df = pd.DataFrame(result)"
   ]
  },
  {
   "cell_type": "code",
   "execution_count": 6,
   "metadata": {},
   "outputs": [],
   "source": [
    "df['App'] = 'Tim Hortons'\n",
    "df['Rank'] = 1"
   ]
  },
  {
   "cell_type": "code",
   "execution_count": 7,
   "metadata": {},
   "outputs": [],
   "source": [
    "links = ['com.mcdonalds.superapp', 'com.starbucks.mobilecard', 'com.subway.mobile.subwayapp03', 'com.myelane2_aw', 'ca.dominospizza', 'com.emn8.mobilem8.nativeapp.bkca', 'com.wendys.nutritiontool', 'com.dairyqueen.ca.android.loyaltyapp.production', 'com.kineticcafe.kfccolonelsclub']"
   ]
  },
  {
   "cell_type": "code",
   "execution_count": 8,
   "metadata": {},
   "outputs": [],
   "source": [
    "for index, link in enumerate(links):\n",
    "\n",
    "    result, continuation_token = reviews(\n",
    "    f'{link}',\n",
    "    lang='en',\n",
    "    country='ca',\n",
    "    sort=Sort.MOST_RELEVANT,\n",
    "    count=1000)\n",
    "    \n",
    "    result, _ = reviews(\n",
    "    f'{link}',\n",
    "    continuation_token=continuation_token)\n",
    "    \n",
    "    tempdf = pd.DataFrame(result)\n",
    "    tempdf['App'] = names[index]\n",
    "    tempdf['Rank'] = index+2\n",
    "    df = pd.concat([df, tempdf], ignore_index=True)"
   ]
  },
  {
   "cell_type": "code",
   "execution_count": 33,
   "metadata": {},
   "outputs": [],
   "source": [
    "df.to_csv('googleplay.csv', index=False)"
   ]
  }
 ],
 "metadata": {
  "kernelspec": {
   "display_name": "Python 3",
   "language": "python",
   "name": "python3"
  },
  "language_info": {
   "codemirror_mode": {
    "name": "ipython",
    "version": 3
   },
   "file_extension": ".py",
   "mimetype": "text/x-python",
   "name": "python",
   "nbconvert_exporter": "python",
   "pygments_lexer": "ipython3",
   "version": "3.8.3"
  },
  "toc": {
   "base_numbering": 1,
   "nav_menu": {},
   "number_sections": true,
   "sideBar": true,
   "skip_h1_title": false,
   "title_cell": "Table of Contents",
   "title_sidebar": "Contents",
   "toc_cell": true,
   "toc_position": {
    "height": "calc(100% - 180px)",
    "left": "10px",
    "top": "150px",
    "width": "248.182px"
   },
   "toc_section_display": true,
   "toc_window_display": true
  }
 },
 "nbformat": 4,
 "nbformat_minor": 4
}
